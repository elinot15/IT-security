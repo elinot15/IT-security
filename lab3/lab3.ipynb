{
 "cells": [
  {
   "cell_type": "markdown",
   "metadata": {},
   "source": [
    "# Exercise #1: Permissions"
   ]
  },
  {
   "cell_type": "markdown",
   "metadata": {},
   "source": [
    "1.Come l'utente normale crea una directory ~/permissions. Crea un file di tua proprietà. Copia un file di proprietà di root da /etc/ nella tua directory permissions dir, che possiede questo file adesso? \n",
    "\n",
    "mkdir permissions\n",
    "\n",
    "touch file.txt\n",
    "\n",
    "-rw-r--r-- 1 elisa elisa   0 apr 23 18:30 file.txt\n",
    "-rwxr-xr-x 1 elisa elisa 238 gen 31  2019 undock.sh\n",
    "lo stesso che possiede la cartella permissions"
   ]
  },
  {
   "cell_type": "markdown",
   "metadata": {},
   "source": [
    "1)mkdir home/gruppo_progetto (crea directory)\n",
    "2)groupadd gruppo_progetto (crea gruppo)\n",
    "3)chgrp gruppo_progetto /home/gruppo_progetto\n",
    "4)chmod 775 /home/gruppo_progetto (modifica permessi gruppo)\n",
    "\n",
    "Come fai a impedire che un utente cancelli il file di un altro?   Puoi fare chmod o+t directory\n",
    "Oppure invece di chmod 775 usare chmod 1777\n",
    "Oppure invece di chmod 775 usare chmod 1777\n",
    "Con questo da quel che ho capito solo l'owner della directory o del file può eliminare il file\n",
    "Oppure invece di chmod 775 usare chmod 1777 <-Attento che così stai anche facendo leggere e scrivere a tutto il mondo\n"
   ]
  },
  {
   "cell_type": "markdown",
   "metadata": {},
   "source": [
    "2 Come root, crea un file nella directory degli utenti ~ / Permissions. Come utente normale, guarda chi possiede questo file creato da root?\n",
    "\n",
    "sudo touch file2.txt\n",
    "\n",
    "-rw-r--r-- 1 root  root    0 apr 23 18:41  file2.txt\n",
    "\n",
    "-rw-r--r-- 1 elisa elisa   0 apr 23 18:45 file.txt\n",
    "\n",
    "-rwxr-xr-x 1 elisa elisa 238 gen 31  2019 undock.sh"
   ]
  },
  {
   "cell_type": "markdown",
   "metadata": {},
   "source": [
    "3 Modificare la proprietà di tutti i file in ~ / permission da te stesso.\n",
    "\n",
    "sudo groupadd gruppo_progetto\n",
    "\n",
    "sudo chown -R elisa:gruppo_progetto *\n",
    "    \n",
    "-rw-r--r-- 1 elisa gruppo_progetto   0 apr 23 18:48 file2.txt\n",
    "\n",
    "-rw-r--r-- 1 elisa gruppo_progetto   0 apr 23 18:50 file.txt\n",
    "\n",
    "-rwxr-xr-x 1 elisa gruppo_progetto 238 gen 31  2019 undock.sh"
   ]
  },
  {
   "cell_type": "markdown",
   "metadata": {},
   "source": [
    "4 Sei sicuro di avere tutti i diritti a questi file, e gli altri possono solo read.\n",
    "\n",
    "no il file prelevato da /etc group e other può anche eseguire"
   ]
  },
  {
   "cell_type": "markdown",
   "metadata": {},
   "source": [
    "5 Con chmod , è 770 uguale a rwxrwx ---?si\n",
    "\n",
    "touch es4.txt\n",
    "\n",
    "chmod 770 es4.txt\n",
    "\n",
    "-rwxrwx--- 1 elisa elisa             0 apr 23 20:48 es4.txt"
   ]
  },
  {
   "cell_type": "markdown",
   "metadata": {},
   "source": [
    "6 Con chmod, 664 è uguale a r-xr-xr -? no  -rw-rw-r--\n",
    "\n",
    "-rw-rw-r-- 1 elisa elisa             0 apr 23 20:48 es4.txt"
   ]
  },
  {
   "cell_type": "markdown",
   "metadata": {},
   "source": [
    "7.Con chmod è 400 uguale a r --------? si\n",
    "\n",
    "-r-------- 1 elisa elisa             0 apr 23 20:48 es4.txt"
   ]
  },
  {
   "cell_type": "markdown",
   "metadata": {},
   "source": [
    "8 con chmod, è 734 lo stesso rwxr-xr -? no -rwx-wxr--\n",
    "-rwx-wxr-- 1 elisa elisa             0 apr 23 20:48 es4.txt"
   ]
  },
  {
   "cell_type": "markdown",
   "metadata": {},
   "source": [
    "9 Mostra umask in ottale e in forma simbolica.\n",
    "\n",
    "umask \n",
    "0022\n",
    "\n",
    "umask -S   (forma simbolica)\n",
    "u=rwx,g=rx,o=rx"
   ]
  },
  {
   "cell_type": "markdown",
   "metadata": {},
   "source": [
    "10.Setta umask simbolico a 077, ma utilizzare il formato simbolico per impostarlo. Verifica che funzioni.\n",
    "umask -S 077\n",
    "u=rwx,g=,o=\n",
    "\n",
    "umask -s 077 es10.txt\n",
    "u=rwx,g=,o=\n",
    "\n",
    "umask\n",
    "0077\n"
   ]
  },
  {
   "cell_type": "markdown",
   "metadata": {},
   "source": [
    "11 Crea un file come root, dai solo lettura ad altri. Un utente normale può leggere questo file? Prova a scrivere su questo file con vi / vim / nano / emacs (il tuo editor preferito).\n",
    "\n",
    "sudo touch es11.txt\n",
    "sudo chmod 744 es11.txt\n",
    "\n",
    "non posso scrivere ho solo i permessi di lettura"
   ]
  },
  {
   "cell_type": "markdown",
   "metadata": {},
   "source": [
    "12 Crea un file come utente normale, dai solo lettura ad altri. Un altro utente normale può leggere questo file? Prova a scrivere su questo file con un editor.\n",
    "\n",
    "touch es12.txt\n",
    "chmod 474 es12.txt\n",
    "\n",
    "posso leggere ma non scrivere"
   ]
  },
  {
   "cell_type": "markdown",
   "metadata": {},
   "source": [
    "13 La root può leggere questo file? root può scrivere su questo file con un editor? \n",
    "\n",
    "la root può leggere ma non può scrivere\n",
    "\n",
    "sudo cat > es12.txt\n",
    "\n",
    "bash: es12.txt: Permesso negato"
   ]
  },
  {
   "cell_type": "markdown",
   "metadata": {},
   "source": [
    "14.Creare una directory che appartiene a un gruppo, dove ogni membro di quel gruppo può leggere e scrivere su file e creare file. Assicurati che le persone possano eliminare solo i propri file\n",
    "\n",
    "sudo groupadd gruppo14\n",
    "\n",
    "chmod 774 es14\n",
    "\n",
    "chmod o+t es14\n",
    "\n",
    "drwxrwxr-T 2 elisa elisa  4096 apr 23 21:25 es14"
   ]
  },
  {
   "cell_type": "markdown",
   "metadata": {},
   "source": [
    "# Exercise #2: Sticky bit, GID and UIDExercise "
   ]
  },
  {
   "cell_type": "markdown",
   "metadata": {},
   "source": [
    "1 Impostare una directory, di proprietà degli studenti del gruppo. \n",
    "\n",
    "sudo groupadd es2\n",
    "\n",
    "mkdir esercizio2\n",
    "\n",
    "chmod +t esercizio2\n",
    "\n",
    "ls -ld esercizio2\n",
    "\n",
    "drwxr-xr-t 2 elisa elisa 4096 apr 23 18:31 esercizio2"
   ]
  },
  {
   "cell_type": "markdown",
   "metadata": {},
   "source": [
    "2 I membri del gruppo di studenti dovrebbero essere in grado di creare file in questa directory. \n",
    "chmod 775 esercizio2/\n",
    "\n",
    "drwxrwxr-t 2 elisa elisa  4096 apr 23 18:47 esercizio2"
   ]
  },
  {
   "cell_type": "markdown",
   "metadata": {},
   "source": [
    "3 Tutti i file creati in questa directory devono essere di proprietà del gruppo di studenti. \n",
    "\n",
    "sudo chown -R elisa:es2 esercizio2"
   ]
  },
  {
   "cell_type": "markdown",
   "metadata": {},
   "source": [
    "4 Gli utenti dovrebbero essere in grado di eliminare solo i propri file di proprietà dell'utente. \n",
    "chmod o+t esercizio2\n"
   ]
  },
  {
   "cell_type": "markdown",
   "metadata": {},
   "source": [
    "5 Verificare le autorizzazioni su /usr/bin/passwd. Rimuovi il setuid, quindi prova a cambiare la password come utente normale. Ripristina le autorizzazioni e riprova.\n",
    "\n",
    "ls -l /usr/bin/passwd \n",
    "\n",
    "-rwsr-xr-x 1 root root 63960 feb  7 19:05 /usr/bin/passwd\n",
    "\n",
    "chmod 755 /usr/bin/passwd \n",
    "\n",
    "ls -l /usr/bin/passwd \n",
    "\n",
    "-rwxr-xr-x 1 root root 63960 feb  7 19:05 /usr/bin/passwd\n",
    "passwd elisa \n",
    "da errore di manipolazione toker di autenticazione non si può cambiare con utente normale\n",
    "\n",
    "chmod 4755 /usr/bin/passwd \n",
    "\n",
    "ls -l /usr/bin/passwd \n",
    "\n",
    "-rwsr-xr-x 1 root root 63960 feb  7 19:05 /usr/bin/passwd\n",
    "\n",
    "riprestinando i permessi non permette di cambiare la password"
   ]
  },
  {
   "cell_type": "markdown",
   "metadata": {},
   "source": [
    "# #3: Users and groupsExercise "
   ]
  },
  {
   "cell_type": "markdown",
   "metadata": {},
   "source": [
    "1.Mostra tutti i gruppi in cui si trova l'utente corrente. \n",
    "\n",
    "groups\n",
    "elisa cdrom floppy audio dip video plogdev netdev bluetooth scanner "
   ]
  },
  {
   "cell_type": "markdown",
   "metadata": {},
   "source": [
    "2 Aggiungi un nuovo gruppo alla tua macchina chiamata scuola, crea un nuovo utente chiamato George e aggiungilo alla scuola di gruppo. \n",
    "\n",
    "sudo groupadd scuola\n",
    "sudo useradd George\n",
    "sudo adduser George scuola"
   ]
  },
  {
   "cell_type": "markdown",
   "metadata": {},
   "source": [
    "3 Crea un file chiamato homework.txt con il tuo attuale utente. Stampa i acls (con il binario /usr/bin/getfacl) associati al tuo utente reale e al file. \n",
    "\n",
    "touch homework.txt\n",
    "getfacl homework.txt \n",
    "#file: homework.txt\n",
    "#owner: George \n",
    "#group: George\n",
    "user:: rw-\n",
    "group::r--\n",
    "other::r--"
   ]
  },
  {
   "cell_type": "markdown",
   "metadata": {},
   "source": [
    "4 Quindi aggiungi George con il permesso ottale 7 all'acl del file homework.txt (usa il setfacl binario). Quindi aggiungi il gruppo scuola con permesso ottale 6 all'acl dello stesso file. Mostra i risultati con getfacl.\n",
    "\n",
    "setfacl -m u:George:7 homework.txt\n",
    "\n",
    "setfacl -m g:scuola:6 homework.txt\n",
    "\n",
    "getfacl homework.txt\n",
    "#file: homework.txt\n",
    "#owner: George\n",
    "#group: George\n",
    "user::rw-\n",
    "user:George:rwx\n",
    "group::r--\n",
    "group:scuola:rw-\n",
    "mask::rwx\n",
    "other::r--"
   ]
  },
  {
   "cell_type": "markdown",
   "metadata": {},
   "source": [
    "5 Con questo file scolastico rimuovi un acl entry per George dal file homework.txt. Puoi ancora scrivere il file?\n",
    "\n",
    "setfacl -m u:George:7 homework.txt\n",
    "getfacl homework.txt | grep George\n",
    "user:George:rwx\n",
    "\n",
    "setfacl -x George homework.txt\n",
    "getfacl homework.txt | grep George\n",
    "#owner: George\n",
    "#group: George\n",
    "\n",
    "si è ancora possibile scrivere sul file "
   ]
  },
  {
   "cell_type": "markdown",
   "metadata": {},
   "source": [
    "# #4: Links"
   ]
  },
  {
   "cell_type": "markdown",
   "metadata": {},
   "source": [
    "1 Creare due file di nome poem.txt e tale.txt, inserire del testo in essi. \n",
    "\n",
    "touch poem.txt\n",
    "\n",
    "touch tale.txt\n",
    "\n",
    "2 Creare un collegamento reale a poem.txt denominato hlpoem.txt.\n",
    "\n",
    "ln poem.txt hlpoem.txt.\n",
    "\n",
    "ls -li\n",
    "\n",
    "32564 -rw-r--r--  1 elisa elisa 45 apr  23 21:30 tale.txt\n",
    "\n",
    "32369 -rw-r--r--  2 elisa elisa 36 apr  23 21:30 poem.txt\n",
    "\n",
    "32369 -rw-r--r--  2 elisa elisa 36 apr  23 21:30 hlpoem.txt\n",
    "\n",
    "3 Visualizzare i numeri di inode di questi tre file, i collegamenti reali dovrebbero avere lo stesso inode.\n",
    "\n",
    "Entrambi i file hanno lo stesso inode, quindi avranno sempre le stesse autorizzazioni e lo stesso proprietario. Entrambi i file avranno lo stesso contenuto. In realtà, entrambi i file sono uguali ora, il che significa che puoi rimuovere in sicurezza il file originale, il file hardlink rimarrà. L'inode contiene un contatore, contando il numero di hard link su se stesso. Quando il contatore scende a zero, l'inode viene svuotato.\n",
    "\n",
    "\n",
    "4 Utilizza il comando find per elencare i due file hardlinked\n",
    "\n",
    "find / -inum 32369 2> /dev/null\n",
    "\n",
    "/home/elisa/poem.txt\n",
    "\n",
    "/home/elisa/hlpoem.txt\n",
    "\n",
    "5 Tutto ciò che riguarda un file è nell'inode, tranne due cose: nominali.\n",
    "il nome del file che è in un directory e il contenuto che è su disco \n",
    "\n",
    "6 Creare un link simbolico a tale.txt chiamato sltale.txt.\n",
    "\n",
    "ln -s tale.txt sltale.txt\n",
    "\n",
    "ls -li\n",
    "\n",
    "32564 -rw-r--r--  1 elisa elisa 45 apr  23 21:30 tale.txt\n",
    "\n",
    "32369 -rw-r--r--  2 elisa elisa 36 apr  23 21:30 poem.txt\n",
    "\n",
    "32369 -rw-r--r--  2 elisa elisa 36 apr  23 21:30 hlpoem.txt\n",
    "\n",
    "7032 lrwxrwxrwx  1 elisa elisa 8 apr  25 9:40  sltale.txt -> tale.txt\n",
    "\n",
    "\n",
    "7 Trova tutti i file con numero di inode 2. Cosa ti dicono queste informazioni?\n",
    "\n",
    "find / -inum 2 2> /dev/null\n",
    "\n",
    "dice che c'è più di una tabella di inode (una per ogni partizione formattata + file system virtuale)"
   ]
  }
 ],
 "metadata": {
  "kernelspec": {
   "display_name": "Python 3",
   "language": "python",
   "name": "python3"
  },
  "language_info": {
   "codemirror_mode": {
    "name": "ipython",
    "version": 3
   },
   "file_extension": ".py",
   "mimetype": "text/x-python",
   "name": "python",
   "nbconvert_exporter": "python",
   "pygments_lexer": "ipython3",
   "version": "3.6.10"
  }
 },
 "nbformat": 4,
 "nbformat_minor": 2
}
