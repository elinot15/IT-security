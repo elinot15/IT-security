{
 "cells": [
  {
   "cell_type": "markdown",
   "metadata": {},
   "source": [
    "# Laboratorio 1"
   ]
  },
  {
   "cell_type": "markdown",
   "metadata": {},
   "source": [
    "# Esercizio # 1: Base64"
   ]
  },
  {
   "cell_type": "markdown",
   "metadata": {},
   "source": [
    "Base64 schemi di codifica sono comunemente utilizzati quando v'è la necessità di codificare i dati binari\n",
    "che hanno l'esigenze essere memorizzati e trasferiti su supporti che sono progettati per trattare con i dati testuali.\n",
    "Questo per garantire che i dati rimangano intatti senza modifiche durante il trasporto. Base64 è\n",
    "usato comunemente in un certo numero di applicazioni, tra cui e-mail tramite MIME, e per memorizzazione dati complessi in XML o JSON. Decodificare il seguente testo:\n",
    "\n",
    "VGhpcyBpcyBiYXNlNjQgZW5jb2RpbmcsIGlzIG5vdCBhIGNoaXBlciBidXQgb25seSBhIHd\n",
    "heSB0byByZXByZXNlbnQgYmluYXJ5IGRhdGEgaW4gYW4gQVNDSUkgc3RyaW5nLg =="
   ]
  },
  {
   "cell_type": "code",
   "execution_count": 1,
   "metadata": {},
   "outputs": [
    {
     "name": "stdout",
     "output_type": "stream",
     "text": [
      "b'This is base64 encoding, is not a chiper but only a way to represent binary data in an ASCII string.'\n"
     ]
    }
   ],
   "source": [
    "import base64\n",
    "\n",
    "c=base64.b64decode('VGhpcyBpcyBiYXNlNjQgZW5jb2RpbmcsIGlzIG5vdCBhIGNoaXBlciBidXQgb25seSBhIHdheSB0byByZXByZXNlbnQgYmluYXJ5IGRhdGEgaW4gYW4gQVNDSUkgc3RyaW5nLg==')\n",
    "print(c)"
   ]
  },
  {
   "cell_type": "markdown",
   "metadata": {},
   "source": [
    "# Esercizio # 2: Stream cipher"
   ]
  },
  {
   "cell_type": "markdown",
   "metadata": {},
   "source": [
    "Un flusso di cifratura è un algoritmo di crittografia che cifra 1 bit o di byte di testo in chiaro al momento.\n",
    "Esso utilizza un flusso infinito di bit pseudocasuali come chiave. Per un Stream cipher l'implementazione per  rimanere sicuro, il suo generatore pseudo dovrebbe essere imprevedibile e la chiave non deve mai essere riutilizzato. Il seguente file crypt.txt (all'interno della cartella 02_stream_chiper) è stato crittografato utilizzando il più famoso Stream cipher codifica l'algoritmo con la chiave contenuta nel file di key.txt. Recuperare il testo in chiaro originale."
   ]
  },
  {
   "cell_type": "code",
   "execution_count": 3,
   "metadata": {},
   "outputs": [
    {
     "data": {
      "text/plain": [
       "\"Very good, you're able to decrypt a fixed _OR! One of the first basic stream chiper.\""
      ]
     },
     "execution_count": 3,
     "metadata": {},
     "output_type": "execute_result"
    }
   ],
   "source": [
    "encrypted= open('crypt.txt' , 'r').read()\n",
    "key= open('key.txt' , 'r').read()\n",
    "\n",
    "key=key.encode()\n",
    "encrypted=encrypted.encode()\n",
    "decrypted=bytearray()\n",
    "\n",
    "for (k,val) in zip (key, encrypted):\n",
    "    decrypted.append(k^val)\n",
    "\n",
    "decrypted.decode()"
   ]
  },
  {
   "cell_type": "markdown",
   "metadata": {},
   "source": [
    "# Exercise #3: Substitution cipher"
   ]
  },
  {
   "cell_type": "markdown",
   "metadata": {},
   "source": [
    "È ben noto che la monoalfabetica Substitution cipher (noto anche come monoalfabetica cipher) non è sicura, perché può essere sottoposto ad analisi di frequenza. In questo laboratorio, si è dato un cipher-text che viene cifrato usando un codice monoalfabetico; cioè, ogni lettera del testo originale è sostituita da un'altra lettera, in cui la sostituzione non varia (cioè, una lettera è sempre sostituita dalla stessa lettera durante la crittografia). Il vostro compito è quello di trovare il testo originale utilizzando l'analisi di frequenza e la chiave di crittografia. E 'noto che il testo originale è una poesia italiana. Noi manteniamo gli spazi tra le parole, in modo da poter ancora vedere i confini delle parole del testo cifrato. In crittografia reale utilizzando la monoalfabetica cipher, saranno rimossi gli spazi. Teniamo anche lettere maiuscole.\n",
    "\n",
    "Linee guida: utilizzando l'analisi in frequenza, si può scoprire il testo in chiaro per alcuni dei personaggi è abbastanza facile. Per quei personaggi, si consiglia di cambiare di nuovo al suo plaintext, così si può essere in grado di ottenere più indizi. È meglio usare lettere maiuscole nel plaintext,\n",
    "quindi per la stessa lettera, sappiamo qual'è plaintext qual'è ciphertext."
   ]
  },
  {
   "cell_type": "code",
   "execution_count": null,
   "metadata": {},
   "outputs": [],
   "source": [
    "import pandas as pd\n",
    "ciphertext=open(\"ciphertext.txt\", \"r\")\n",
    "ciphertext=ciphertext.read()\n",
    "ciphertext=ciphertext.replace(\"\\n\", \" \").strip()\n",
    "\n",
    "res = {i : ciphertext.count(i) for i in set(ciphertext) if(i.isalpha())}\n",
    "\n",
    "freq=pd.DataFrame.from_dict(res, orient='index', columns=['Freq.'])\n",
    "freq=freq.sort_values('Freq.', ascending=False)\n",
    "freq=freq/len(ciphertext)*100\n",
    "\n",
    "d_ita={'e':11.74, 'b':0.92, 'c':4.50, 'm':3.73, 'a':11.79, 't':0.95, 'p':1.64, 'v':1.54, 'i':11.28, 'n':6.51, 'd':2.51, 'l':6.88, 'f':9.83, 'g':3.05, 'q':0.51, 'r':6.37, 's':4.98, 'o':5.62, 'u':3.01,'h':2.10, 'z':0.49}\n",
    "freq_ita=pd.DataFrame.from_dict(d_ita, orient='index', columns=['Freq.'])\n",
    "freq_ita=freq_ita.sort_values('Freq.', ascending=False)\n",
    "\n",
    "\n",
    "for i in range(0,6):\n",
    "    ciphertext=ciphertext.replace(freq.index[i], (freq_ita.index[i]).upper()) \n",
    "ciphertext\n"
   ]
  },
  {
   "cell_type": "code",
   "execution_count": 86,
   "metadata": {},
   "outputs": [
    {
     "name": "stdout",
     "output_type": "stream",
     "text": [
      "la donzelletta vien dalla capagna in sul calar del sole  col suo fascio dell erba  e reca in ano un azzolin di rose e viole  onde  siccoe suole  ornare ella si appresta diani  al d  di festa  il petto e il crine   iede con le vicine su la scala a filar la vecc ierella  incontro l  dove si perde il giorno  e novellando vien del suo buon tepo   uando ai d  della festa ella si ornava  ed ancor sana e snella solea danzar la sera intra di  uei c  ebbe copagni nell et  pi  bella   i  tutta l aria ibruna  torna azzurro il sereno  e tornan l obre gi  da  colli e da  tetti  al bianc eggiar della recente luna   r la s uilla d  segno della festa c e viene  ed a  uel suon diresti c e il cor si riconforta    fanciulli gridando su la piazzuola in frotta  e  ua e l  saltando  fanno un lieto roore  e intanto riede alla sua parca ensa  fisc iando  il zappatore  e seco pensa al d  del suo riposo   oi  uando intorno   spenta ogni altra face  e tutto l altro tace  odi il artel picc iare  odi la sega del legnaiuol  c e veglia nella c iusa bottega alla lucerna  e s affretta  e s adopra di fornir l opra anzi al c iarir dell alba   uesto di sette   il pi  gradito giorno  pien di spee e di gioia  dian tristezza e noia rec eran l ore  ed al travaglio usato ciascuno in suo pensier far  ritorno   arzoncello sc erzoso  cotesta et  fiorita   coe un giorno d allegrezza pieno  giorno c iaro  sereno  c e precorre alla festa di tua vita   odi  fanciullo io  stato soave  stagion lieta   cotesta   ltro dirti non vo   a la tua festa c  anco tardi a venir non ti sia grave "
     ]
    }
   ],
   "source": [
    "d_prova={'a':'s', 'b':'p', 'd':'r', 'e':'o', 'f':'t', 'g':'u',\n",
    "               'h':'v', 'i':'z' ,'j':'a', 'l':'c', 'm':'d', 'n':'e', 'o':'f', 'p':'g',\n",
    "               'r':'i', 's':'S', 'u':'l','v':'', 'k':'b', 'z':'n'}\n",
    "\n",
    "cip=open(\"ciphertext.txt\", \"r\")\n",
    "cip=cip.read()\n",
    "cip=cip.replace(\"\\n\", \" \").strip()\n",
    "prova=cip\n",
    "for i in cip:\n",
    "    print(d_prova.get(i,\" \") , end='')\n",
    "    "
   ]
  },
  {
   "cell_type": "markdown",
   "metadata": {},
   "source": [
    "+# Hash functions"
   ]
  },
  {
   "cell_type": "markdown",
   "metadata": {},
   "source": [
    "# Exercise #4: Integrity checks"
   ]
  },
  {
   "cell_type": "markdown",
   "metadata": {},
   "source": [
    "Tutti i file ricevuti da una risorsa esterna possono essere danneggiati, ad esempio quando vengono\n",
    "scaricati da internet (a causa di errore di trasmissione), quando un dispositivo di memorizzazione guasto o \n",
    "peggio quando un aggressore cambia il suo contenuto. Un modo per garantire che i programmi o file non siano stati danneggiati o manomessi è quello di calcolare il loro valore di hash e poi fare il confronto con il checksum fornita dalla sorgente. Se hash matcha, allora avete un ragionevole grado di fiducia che il file è stato scaricato è esattamente lo stesso di quello dichiarato dalla sorgente. Se non lo è, allora il file è stato modificato in qualche modo. All'interno 04_integrity_checks cartella c'è un file PDF e hash precalcolato, si può controllare la propria integrità?"
   ]
  },
  {
   "cell_type": "code",
   "execution_count": 30,
   "metadata": {},
   "outputs": [
    {
     "data": {
      "text/plain": [
       "[True, True, True, True]"
      ]
     },
     "execution_count": 30,
     "metadata": {},
     "output_type": "execute_result"
    }
   ],
   "source": [
    "import base64\n",
    "import hashlib \n",
    "\n",
    "encoded_string= open(\"PE_Format_Walkthrough.pdf\", \"rb\")\n",
    "encoded_string =  encoded_string.read()\n",
    "\n",
    "hash_string_md5=hashlib.md5(encoded_string).hexdigest()\n",
    "hash_string_sha1=hashlib.sha1(encoded_string).hexdigest()\n",
    "hash_string_sha256= hashlib.sha256(encoded_string).hexdigest()\n",
    "hash_string_sha512=hashlib.sha512(encoded_string).hexdigest()\n",
    "\n",
    "md5= open('checksum.md5' , 'r').read().strip()\n",
    "sha1= open('checksum.sha1' , 'r').read().strip()\n",
    "sha256= open('checksum.sha256' , 'r').read().strip()\n",
    "sha512=open('checksum.sha512' , 'r').read().strip()\n",
    "\n",
    "elenco= [hash_string_md5==md5, hash_string_sha1==sha1, \n",
    "         hash_string_sha256==sha256, hash_string_sha512==sha512]\n",
    "elenco"
   ]
  },
  {
   "cell_type": "markdown",
   "metadata": {},
   "source": [
    "# Exercise #5: Hash forcing"
   ]
  },
  {
   "cell_type": "markdown",
   "metadata": {},
   "source": [
    "Scrivere uno script python che è in grado di determinare un valore tale che H (i) = 00000xxxxxxxxxxxxxxxx, dove H è la funzione di hash SHA-1. Il numero minimo di zeri accettata è 3. Lo studente è tenuto a fornire il valore di i."
   ]
  },
  {
   "cell_type": "code",
   "execution_count": 96,
   "metadata": {},
   "outputs": [
    {
     "name": "stdout",
     "output_type": "stream",
     "text": [
      "i: ('Q', 'a', '4', 'q') gen: 0000017073f651142c381e79907f15f5a4f5b211\n",
      "i: ('I', 'v', 'x', 'Z') gen: 000002edfd74a39574f3ed02d9731e665a4051bd\n",
      "i: ('O', 'w', 'U', 'H') gen: 000009b40ea64bea63cf2f21bd7efe845cd756c5\n",
      "i: ('D', 'O', 'H', 'w') gen: 0000066bfe3a49a5a5f21aff4712701162f923dc\n",
      "i: ('K', '1', 'J', '4') gen: 000003daf52cbc4c15d6645efa1efdacffca1b7a\n",
      "i: ('Z', '1', 'Y', 'O') gen: 00000eb43f8ca7b97d3b43c539f87d1e505f9d42\n",
      "i: ('B', 'K', 'k', 'h') gen: 000005bf7c5b6f639306b0f8ed15cce814717016\n",
      "i: ('u', '7', 'b', 'y') gen: 000007d73f592343a4a994f663ea79ee52dcfce1\n",
      "i: ('i', '8', '8', 'n') gen: 000007f93b250ba40faeb87a7e825adf823c063b\n",
      "i: ('l', 'D', 's', 'h') gen: 000007c6e45c28c88b1e8d85f0ccc138c1f1ce55\n",
      "i: ('n', 'J', 't', '6') gen: 000008f129fcc20da0cb304656861e108b3916d7\n",
      "i: ('0', 'c', 'v', 'm') gen: 000004791b5446dfe6916a5a681f70de191a4956\n",
      "i: ('3', 'P', '7', 'M') gen: 000006cef92e331954423e6575a21c85853f106a\n",
      "i: ('4', 'g', 'n', 'h') gen: 0000075d811fdb5ccb2ecec23069094d6246ec7c\n",
      "i: ('6', 'K', 'a', 'I') gen: 0000003bb669bea659d8182363003d90a47311e9\n"
     ]
    }
   ],
   "source": [
    "import itertools as it\n",
    "#ALPHABET=\"qwertyuiopasdfghjklzxcvbnmQWERTYUIOPASDFGHJKLZXCVBNM0123456789\"\n",
    "ALPHABET=\"QWERTYUIOPASDFGHJKLZXCVBNMqwertyuiopasdfghjklzxcvbnm0123456789\"\n",
    "LEN=4\n",
    "\n",
    "def sha1_hash(num_seq):\n",
    "        string=''.join(num_seq)\n",
    "        hash_object=hs.sha1(string.encode())\n",
    "        return hash_object.hexdigest()\n",
    "    \n",
    "for word in it.product(ALPHABET, repeat=LEN):\n",
    "        generated_hash=sha1_hash(word)\n",
    "        if (generated_hash[0]=='0' and generated_hash[1]=='0' \n",
    "            and generated_hash[2]=='0' and generated_hash[3]=='0' \n",
    "            and generated_hash[4]=='0'):\n",
    "            print('i:', word, 'gen:', generated_hash)"
   ]
  },
  {
   "cell_type": "markdown",
   "metadata": {},
   "source": [
    "# Exercise #6: Short password"
   ]
  },
  {
   "cell_type": "markdown",
   "metadata": {},
   "source": [
    "L'attacco Bruteforce è la modalità di cracking più potente, può provare tutte le possibili combinazioni di caratteri come password. Tuttavia, cracking con metodi esaustivi non finirà mai a causa del numero di combinazioni che sono troppo grandi. In questo esercizio abbiamo applicato alcuni vincoli per ottenere il lavoro fatto in un tempo ragionevole. Il 06_short_password_cracking cartella contiene alcune password hash. Applicare un Bruteforce al fine di recuperare le password in chiaro, sapendo che sono 5 caratteri e contiene solo i caratteri minuscoli. L'elenco di password recuperati deve essere inviata.\n",
    "\n",
    "Suggerimenti: per risolvere i problemi sopra menzionati può essere molto utile per utilizzare il seguente libreria Python: hashlib\n",
    "\n",
    "Codice sorgente: Lib/hashlib.py\n",
    "Questo modulo implementa un'interfaccia comune a molti diversi secure hash e message algorithms digest. Inclusi il FIPS secure hash algorithms SHA1, SHA224, SHA256, SHA384 e SHA512 (definito in FIPS 180-2), così come l'algoritmo MD5 di RSA (definito in Internet RFC 1321). I termini “secure hash” e “message digest” sono intercambiabili. Algoritmi più vecchi sono stati chiamati message digest. Il termine moderno è secure hash.\n",
    "Maggiori informazioni https://docs.python.org/3/library/hashlib.html"
   ]
  },
  {
   "cell_type": "code",
   "execution_count": 1,
   "metadata": {},
   "outputs": [
    {
     "data": {
      "text/plain": [
       "list"
      ]
     },
     "execution_count": 1,
     "metadata": {},
     "output_type": "execute_result"
    }
   ],
   "source": [
    "import hashlib as hs\n",
    "import base64 as b\n",
    "import pandas as pd\n",
    "import itertools as it\n",
    "\n",
    "ALPHABET=\"abcdefghijklmnopqrstuvwxyz\"\n",
    "LEN=5\n",
    "data = pd.read_csv('hacked_passwords.txt', sep=\":\", header = None)\n",
    "password= data[1].tolist()\n",
    "data\n",
    "type(password)"
   ]
  },
  {
   "cell_type": "code",
   "execution_count": 6,
   "metadata": {},
   "outputs": [
    {
     "name": "stdout",
     "output_type": "stream",
     "text": [
      "The password of user user11 is: crypt\n",
      "The password of user user10 is: cyber\n",
      "The password of user user8 is: locky\n",
      "The password of user user13 is: macos\n",
      "The password of user user20 is: money\n",
      "The password of user user16 is: phone\n",
      "The password of user user12 is: print\n",
      "The password of user user19 is: pwned\n",
      "The password of user user14 is: quick\n",
      "The password of user user18 is: virus\n"
     ]
    }
   ],
   "source": [
    "def md5_hash(char_sequence):\n",
    "        string=''.join(char_sequence)\n",
    "        hash_object=hs.md5(string.encode())\n",
    "        return hash_object.hexdigest()\n",
    "    \n",
    "for word in it.product(ALPHABET, repeat=LEN):\n",
    "        generated_hash=md5_hash(word) \n",
    "        if generated_hash in password:\n",
    "            print('The password of user', \n",
    "                  data[data[1]==generated_hash][0].to_string(index=False),\n",
    "                  'is:', ''.join(word))"
   ]
  },
  {
   "cell_type": "code",
   "execution_count": 20,
   "metadata": {},
   "outputs": [
    {
     "name": "stdout",
     "output_type": "stream",
     "text": [
      "The password of user user17 is: cost\n",
      "The password of user user15 is: gate\n",
      "The password of user user4 is: hack\n"
     ]
    }
   ],
   "source": [
    "LEN=4\n",
    "def md5_hash(char_sequence):\n",
    "        string=''.join(char_sequence)\n",
    "        hash_object=hs.md5(string.encode())\n",
    "        return hash_object.hexdigest()\n",
    "    \n",
    "for word in it.product(ALPHABET, repeat=LEN):\n",
    "        generated_hash=md5_hash(word) \n",
    "        if generated_hash in password:\n",
    "            print('The password of user', \n",
    "                  data[data[1]==generated_hash][0].to_string(index=False), \n",
    "                  'is:', ''.join(word))"
   ]
  },
  {
   "cell_type": "code",
   "execution_count": 5,
   "metadata": {},
   "outputs": [
    {
     "name": "stdout",
     "output_type": "stream",
     "text": [
      "The password of user user5 is: apple\n",
      "The password of user user2 is: linux\n"
     ]
    }
   ],
   "source": [
    "def sha1_hash(char_sequence):\n",
    "        string=''.join(char_sequence)\n",
    "        hash_object=hs.sha1(string.encode())\n",
    "        return hash_object.hexdigest()\n",
    "    \n",
    "for word in it.product(ALPHABET, repeat=LEN):\n",
    "        generated_hash=sha1_hash(word)\n",
    "        if generated_hash in password:\n",
    "            print('The password of user', \n",
    "                  data[data[1]==generated_hash][0].to_string(index=False),\n",
    "                  'is:', ''.join(word))"
   ]
  },
  {
   "cell_type": "code",
   "execution_count": 3,
   "metadata": {},
   "outputs": [
    {
     "name": "stdout",
     "output_type": "stream",
     "text": [
      "The password of user user7 is: admin\n",
      "The password of user admin is: crack\n",
      "The password of user user1 is: laser\n"
     ]
    }
   ],
   "source": [
    "def sha256_hash(char_sequence):\n",
    "        string=''.join(char_sequence)\n",
    "        hash_object=hs.sha256(string.encode())\n",
    "        return hash_object.hexdigest()\n",
    "\n",
    "for word in it.product(ALPHABET, repeat=LEN):\n",
    "        generated_hash=sha256_hash(word)\n",
    "        if generated_hash in password:\n",
    "            print('The password of user', \n",
    "                  data[data[1]==generated_hash][0].to_string(index=False),\n",
    "                  'is:', ''.join(word))"
   ]
  },
  {
   "cell_type": "code",
   "execution_count": 28,
   "metadata": {},
   "outputs": [],
   "source": [
    "def sha512_hash(char_sequence):\n",
    "        string=''.join(char_sequence)\n",
    "        hash_object=hs.sha512(string.encode())\n",
    "        return hash_object.hexdigest()\n",
    "    \n",
    "for word in it.product(ALPHABET, repeat=LEN):\n",
    "        generated_hash=sha512_hash(word)\n",
    "        if generated_hash in password:\n",
    "            print('The password of user', \n",
    "                  data[data[1]==generated_hash][0].to_string(index=False),\n",
    "                  'is:', ''.join(word))"
   ]
  },
  {
   "cell_type": "code",
   "execution_count": 25,
   "metadata": {},
   "outputs": [
    {
     "name": "stdout",
     "output_type": "stream",
     "text": [
      "The password of user user3 is: bugs\n"
     ]
    }
   ],
   "source": [
    "LEN=4\n",
    "def sha1_hash(char_sequence):\n",
    "        string=''.join(char_sequence)\n",
    "        hash_object=hs.sha1(string.encode())\n",
    "        return hash_object.hexdigest()\n",
    "\n",
    "for word in it.product(ALPHABET, repeat=LEN):\n",
    "        generated_hash=sha1_hash(word)\n",
    "        if generated_hash in password:\n",
    "            print('The password of user', \n",
    "                  data[data[1]==generated_hash][0].to_string(index=False), \n",
    "                  'is:', ''.join(word))"
   ]
  },
  {
   "cell_type": "code",
   "execution_count": 23,
   "metadata": {},
   "outputs": [
    {
     "name": "stdout",
     "output_type": "stream",
     "text": [
      "The password of user user9 is: key\n"
     ]
    }
   ],
   "source": [
    "LEN=3\n",
    "def sha1_hash(char_sequence):\n",
    "        string=''.join(char_sequence)\n",
    "        hash_object=hs.sha1(string.encode())\n",
    "        return hash_object.hexdigest()\n",
    "\n",
    "for word in it.product(ALPHABET, repeat=LEN):\n",
    "        generated_hash=sha1_hash(word)\n",
    "        if generated_hash in password:\n",
    "            print('The password of user', \n",
    "                  data[data[1]==generated_hash][0].to_string(index=False),\n",
    "                  'is:', ''.join(word))"
   ]
  },
  {
   "cell_type": "code",
   "execution_count": 10,
   "metadata": {},
   "outputs": [
    {
     "data": {
      "text/plain": [
       "True"
      ]
     },
     "execution_count": 10,
     "metadata": {},
     "output_type": "execute_result"
    }
   ],
   "source": [
    "ris=hs.md5(''.encode()).hexdigest()=='d41d8cd98f00b204e9800998ecf8427e'\n",
    "ris"
   ]
  },
  {
   "cell_type": "code",
   "execution_count": 11,
   "metadata": {},
   "outputs": [
    {
     "name": "stdout",
     "output_type": "stream",
     "text": [
      "The password of user user6 is: \n"
     ]
    }
   ],
   "source": [
    "def md5_hash(char_sequence):\n",
    "        string=''.join(char_sequence)\n",
    "        hash_object=hs.md5(string.encode())\n",
    "        return hash_object.hexdigest()\n",
    "    \n",
    "for word in it.product(ALPHABET, repeat=0):\n",
    "        generated_hash=md5_hash(word) \n",
    "        if generated_hash in password:\n",
    "            print('The password of user', \n",
    "                  data[data[1]==generated_hash][0].to_string(index=False),\n",
    "                  'is:', ''.join(word))"
   ]
  }
 ],
 "metadata": {
  "kernelspec": {
   "display_name": "Python 3",
   "language": "python",
   "name": "python3"
  },
  "language_info": {
   "codemirror_mode": {
    "name": "ipython",
    "version": 3
   },
   "file_extension": ".py",
   "mimetype": "text/x-python",
   "name": "python",
   "nbconvert_exporter": "python",
   "pygments_lexer": "ipython3",
   "version": "3.6.10"
  }
 },
 "nbformat": 4,
 "nbformat_minor": 2
}
